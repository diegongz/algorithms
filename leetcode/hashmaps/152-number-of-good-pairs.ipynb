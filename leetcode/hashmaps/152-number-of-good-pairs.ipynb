{
 "cells": [
  {
   "cell_type": "markdown",
   "metadata": {},
   "source": [
    "# 1512. Number of Good Pairs"
   ]
  },
  {
   "cell_type": "markdown",
   "metadata": {},
   "source": [
    "### **Description:** \n",
    "\n",
    "Given an array of integers nums, return the number of good pairs.\n",
    "\n",
    "\n",
    "A pair (i, j) is called good if nums[i] == nums[j] and i < j."
   ]
  },
  {
   "cell_type": "markdown",
   "metadata": {},
   "source": [
    "### **Example:**\n",
    "\n",
    "**Input:** nums = [1,2,3,1,1,3]\n",
    "\n",
    "**Output:** 4\n",
    "\n",
    "**Explanation:** There are 4 good pairs (0,3), (0,4), (3,4), (2,5) 0-indexed."
   ]
  },
  {
   "cell_type": "code",
   "execution_count": 4,
   "metadata": {},
   "outputs": [],
   "source": [
    "import math\n",
    "\n",
    "\n",
    "def numIdenticalPairs(nums):\n",
    "    \n",
    "    dict = {}\n",
    "    \n",
    "    [dict.setdefault(x,[]) for x in nums]\n",
    "\n",
    "    for pos in range(len(nums)):\n",
    "        dict[nums[pos]].append(pos)\n",
    "    \n",
    "    counter = 0\n",
    "\n",
    "    for key in dict:\n",
    "        if len(dict[key])>1:\n",
    "            counter = counter + math.comb(len(dict[key]),2)\n",
    "    \n",
    "    return counter"
   ]
  },
  {
   "cell_type": "code",
   "execution_count": 5,
   "metadata": {},
   "outputs": [
    {
     "name": "stdout",
     "output_type": "stream",
     "text": [
      "4\n"
     ]
    }
   ],
   "source": [
    "nums = [1,2,3,1,1,3]\n",
    "\n",
    "# expected output: 4\n",
    "\n",
    "print(numIdenticalPairs(nums))"
   ]
  },
  {
   "cell_type": "code",
   "execution_count": null,
   "metadata": {},
   "outputs": [],
   "source": []
  }
 ],
 "metadata": {
  "kernelspec": {
   "display_name": "env1",
   "language": "python",
   "name": "python3"
  },
  "language_info": {
   "codemirror_mode": {
    "name": "ipython",
    "version": 3
   },
   "file_extension": ".py",
   "mimetype": "text/x-python",
   "name": "python",
   "nbconvert_exporter": "python",
   "pygments_lexer": "ipython3",
   "version": "3.11.4"
  }
 },
 "nbformat": 4,
 "nbformat_minor": 2
}

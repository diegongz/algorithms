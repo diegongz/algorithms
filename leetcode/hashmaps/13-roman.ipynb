{
 "cells": [
  {
   "cell_type": "markdown",
   "metadata": {},
   "source": [
    "# 13. Roman to Integer"
   ]
  },
  {
   "cell_type": "markdown",
   "metadata": {},
   "source": [
    "#### Given a roman numeral, convert it to an integer.\n",
    "\n",
    " \n",
    "\n",
    "**Example 1:** \n",
    "\n",
    "**Input**: s = \"III\"\n",
    "\n",
    "**Output**: 3\n",
    "\n",
    "Explanation: III = 3."
   ]
  },
  {
   "cell_type": "markdown",
   "metadata": {},
   "source": []
  },
  {
   "cell_type": "code",
   "execution_count": 4,
   "metadata": {},
   "outputs": [],
   "source": [
    "def romanToInt(s):\n",
    "    \n",
    "    D = {}\n",
    "    \n",
    "    D[\"I\"] = 1\n",
    "    D['V'] = 5\n",
    "    D['X'] = 10\n",
    "    D['L'] = 50\n",
    "    D['C'] = 100\n",
    "    D['D'] = 500\n",
    "    D['M'] = 1000\n",
    "\n",
    "    res = 0\n",
    "    i = 0\n",
    "\n",
    "    while i<len(s):\n",
    "\n",
    "        if i != len(s)-1 and s[i] == \"I\" and (s[i+1] == \"V\" or s[i+1] == \"X\"):\n",
    "            if  s[i+1] == \"V\":\n",
    "                res = res + 4\n",
    "            else:\n",
    "                res = res + 9\n",
    "            \n",
    "            i = i+2\n",
    "        \n",
    "        elif i != len(s)-1 and s[i] == \"X\" and (s[i+1] == \"L\" or s[i+1] == \"C\"):\n",
    "            if  s[i+1] == \"L\":\n",
    "                res = res + 40\n",
    "            else:\n",
    "                res = res + 90\n",
    "            \n",
    "            i = i+2\n",
    "\n",
    "        elif i != len(s)-1 and s[i] == \"C\" and (s[i+1] == \"D\" or s[i+1] == \"M\"):\n",
    "            if  s[i+1] == \"D\":\n",
    "                res = res + 400\n",
    "            else:\n",
    "                res = res + 900\n",
    "            \n",
    "            i = i+2\n",
    "        else:\n",
    "            res = res + D[s[i]]\n",
    "            i +=1\n",
    "            \n",
    "                \n",
    "    return res"
   ]
  },
  {
   "cell_type": "code",
   "execution_count": 6,
   "metadata": {},
   "outputs": [
    {
     "data": {
      "text/plain": [
       "1994"
      ]
     },
     "execution_count": 6,
     "metadata": {},
     "output_type": "execute_result"
    }
   ],
   "source": [
    "#Test Case\n",
    "\n",
    "#solution: 1994\n",
    "\n",
    "s = \"MCMXCIV\"\n",
    "\n",
    "romanToInt(s)"
   ]
  },
  {
   "cell_type": "code",
   "execution_count": null,
   "metadata": {},
   "outputs": [],
   "source": []
  }
 ],
 "metadata": {
  "kernelspec": {
   "display_name": "env1",
   "language": "python",
   "name": "python3"
  },
  "language_info": {
   "codemirror_mode": {
    "name": "ipython",
    "version": 3
   },
   "file_extension": ".py",
   "mimetype": "text/x-python",
   "name": "python",
   "nbconvert_exporter": "python",
   "pygments_lexer": "ipython3",
   "version": "3.11.4"
  }
 },
 "nbformat": 4,
 "nbformat_minor": 2
}
